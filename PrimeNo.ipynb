{
  "nbformat": 4,
  "nbformat_minor": 0,
  "metadata": {
    "colab": {
      "name": "PrimeNo.ipynb",
      "provenance": [],
      "include_colab_link": true
    },
    "kernelspec": {
      "name": "python3",
      "display_name": "Python 3"
    }
  },
  "cells": [
    {
      "cell_type": "markdown",
      "metadata": {
        "id": "view-in-github",
        "colab_type": "text"
      },
      "source": [
        "<a href=\"https://colab.research.google.com/github/shreyaadarakh/NLPsem6/blob/master/PrimeNo.ipynb\" target=\"_parent\"><img src=\"https://colab.research.google.com/assets/colab-badge.svg\" alt=\"Open In Colab\"/></a>"
      ]
    },
    {
      "cell_type": "code",
      "metadata": {
        "id": "jawxF8b0utkq",
        "colab_type": "code",
        "colab": {}
      },
      "source": [
        "import numpy as np\n",
        "import pandas as pd"
      ],
      "execution_count": 0,
      "outputs": []
    },
    {
      "cell_type": "code",
      "metadata": {
        "id": "3rqLLKmyu1Ff",
        "colab_type": "code",
        "colab": {}
      },
      "source": [
        "list=[]"
      ],
      "execution_count": 0,
      "outputs": []
    },
    {
      "cell_type": "code",
      "metadata": {
        "id": "CR0mfDacu3b3",
        "colab_type": "code",
        "colab": {}
      },
      "source": [
        "list.append(2)"
      ],
      "execution_count": 0,
      "outputs": []
    },
    {
      "cell_type": "code",
      "metadata": {
        "id": "GYHtMYlXu6So",
        "colab_type": "code",
        "colab": {}
      },
      "source": [
        "def prime(n):\n",
        "  num=3\n",
        "  count=1\n",
        "  while (count<=n):\n",
        "    if is_prime(num):\n",
        "      list.append(num)\n",
        "      count+=1\n",
        "    num+=2  \n",
        "  print(n,\"th prime no is: \",list[n-1])\n",
        "\n",
        "def is_prime(num):\n",
        "  factor=2\n",
        "  while(factor*factor<=num):\n",
        "    if num%factor==0:\n",
        "      return False\n",
        "    factor+=1\n",
        "  return True"
      ],
      "execution_count": 0,
      "outputs": []
    },
    {
      "cell_type": "code",
      "metadata": {
        "id": "UnO4b8kOu9YO",
        "colab_type": "code",
        "colab": {
          "base_uri": "https://localhost:8080/",
          "height": 68
        },
        "outputId": "e237f409-d1a0-45dc-b77c-021e2bfd697a"
      },
      "source": [
        "n=int(input(\"Enter the value of n: \\n\"))\n",
        "prime(n)"
      ],
      "execution_count": 9,
      "outputs": [
        {
          "output_type": "stream",
          "text": [
            "Enter the value of n: \n",
            "10\n",
            "10 th prime no is:  29\n"
          ],
          "name": "stdout"
        }
      ]
    }
  ]
}